{
 "cells": [
  {
   "cell_type": "code",
   "execution_count": 1,
   "metadata": {
    "ExecuteTime": {
     "end_time": "2019-01-25T00:19:15.505539Z",
     "start_time": "2019-01-25T00:19:15.094991Z"
    }
   },
   "outputs": [
    {
     "name": "stdout",
     "output_type": "stream",
     "text": [
      "Populating the interactive namespace from numpy and matplotlib\n"
     ]
    }
   ],
   "source": [
    "%pylab inline\n",
    "import numpy as np"
   ]
  },
  {
   "cell_type": "markdown",
   "metadata": {
    "collapsed": true
   },
   "source": [
    "### Definition of some graphs"
   ]
  },
  {
   "cell_type": "code",
   "execution_count": 2,
   "metadata": {
    "ExecuteTime": {
     "end_time": "2019-01-25T00:19:16.703812Z",
     "start_time": "2019-01-25T00:19:16.698858Z"
    }
   },
   "outputs": [
    {
     "name": "stdout",
     "output_type": "stream",
     "text": [
      "Writing line.dot\n"
     ]
    }
   ],
   "source": [
    "%%writefile line.dot\n",
    "graph G {\n",
    "0 [style=filled];\n",
    "1 [style=filled];\n",
    "2 [style=filled];\n",
    "3 [style=filled];\n",
    "4 [style=filled];\n",
    "5 [style=filled];\n",
    "6 [style=filled];\n",
    "7 [style=filled];\n",
    "8 [style=filled];\n",
    "9 [style=filled];\n",
    "10 [style=filled];\n",
    "11 [style=filled];\n",
    "12 [style=filled];\n",
    "13 [style=filled];\n",
    "14 [style=filled];\n",
    "15 [style=filled];\n",
    "16 [style=filled];\n",
    "17 [style=filled];\n",
    "18 [style=filled];\n",
    "19 [style=filled];\n",
    "20 [style=filled];\n",
    "21 [style=filled];\n",
    "22 [style=filled];\n",
    "23 [style=filled];\n",
    "0--1--2--3--4--5--6--7--8--9--10--11--12--13--14--15--16--17--18--19--20--21--22--23;\n",
    "}"
   ]
  },
  {
   "cell_type": "code",
   "execution_count": 3,
   "metadata": {
    "ExecuteTime": {
     "end_time": "2019-01-25T00:19:16.916775Z",
     "start_time": "2019-01-25T00:19:16.912709Z"
    }
   },
   "outputs": [
    {
     "name": "stdout",
     "output_type": "stream",
     "text": [
      "Writing twoD.dot\n"
     ]
    }
   ],
   "source": [
    "%%writefile twoD.dot\n",
    "graph G {\n",
    "0 [style=filled];\n",
    "1 [style=filled];\n",
    "2 [style=filled];\n",
    "3 [style=filled];\n",
    "4 [style=filled];\n",
    "5 [style=filled];\n",
    "6 [style=filled];\n",
    "7 [style=filled];\n",
    "8 [style=filled];\n",
    "9 [style=filled];\n",
    "10 [style=filled];\n",
    "11 [style=filled];\n",
    "12 [style=filled];\n",
    "13 [style=filled];\n",
    "14 [style=filled];\n",
    "15 [style=filled];\n",
    "\n",
    "\n",
    "0--1--2--3;\n",
    "4--5--6--7;\n",
    "8--9--10--11;\n",
    "12--13--14--15;\n",
    "0--4--8--12;\n",
    "1--5--9--13;\n",
    "2--6--10--14;\n",
    "3--7--11--15;\n",
    "}"
   ]
  },
  {
   "cell_type": "markdown",
   "metadata": {},
   "source": [
    "### Read and display a graph"
   ]
  },
  {
   "cell_type": "code",
   "execution_count": 4,
   "metadata": {
    "ExecuteTime": {
     "end_time": "2019-01-25T00:19:18.379266Z",
     "start_time": "2019-01-25T00:19:18.370620Z"
    }
   },
   "outputs": [],
   "source": [
    "import pydot\n",
    "filenames=['circle', 'line', 'star', 'torus', 'twoD', 'twoblobs']\n",
    "filename='twoD'\n",
    "def read_graph(filename):\n",
    "    dot=open(filename+'.dot','r').readlines()\n",
    "    dot=''.join(dot)\n",
    "\n",
    "    G,=pydot.dot_parser.parse_dot_data(dot)\n",
    "    gif_name=filename+'.gif'\n",
    "    G.write_gif(gif_name)\n",
    "    return G,gif_name\n"
   ]
  },
  {
   "cell_type": "markdown",
   "metadata": {},
   "source": [
    "### Compute graph matrices\n",
    "* A: Adjacency matrix\n",
    "* D: Degree Matrix"
   ]
  },
  {
   "cell_type": "code",
   "execution_count": 5,
   "metadata": {
    "ExecuteTime": {
     "end_time": "2019-01-25T00:19:19.797369Z",
     "start_time": "2019-01-25T00:19:19.791694Z"
    }
   },
   "outputs": [],
   "source": [
    "from numpy.linalg import eigh\n",
    "from numpy import matrix\n",
    "\n",
    "def calc_laplacian(G):\n",
    "    node_n=len(G.get_nodes())\n",
    "    A=matrix(np.zeros([node_n,node_n])) # adjacency matrix\n",
    "    for edge in G.get_edge_list():\n",
    "        _i=int(edge.get_source())\n",
    "        _j=int(edge.get_destination())\n",
    "        A[_i,_j]=1\n",
    "        A[_j,_i]=1\n",
    "\n",
    "    D=matrix(np.zeros([node_n,node_n])) # degree matrix \n",
    "    for i in range(node_n):\n",
    "        D[i,i]=sum(A[i,:])\n",
    "    L=D-A  # the laplacian\n",
    "\n",
    "    w,v=eigh(L) # perform eigen-decomposition of a symmetric (Hermitian) matrix\n",
    "    return w,v,A,D"
   ]
  },
  {
   "cell_type": "markdown",
   "metadata": {},
   "source": [
    "### Find eigen-decomposition of laplacian"
   ]
  },
  {
   "cell_type": "code",
   "execution_count": 6,
   "metadata": {
    "ExecuteTime": {
     "end_time": "2019-01-25T00:19:21.049625Z",
     "start_time": "2019-01-25T00:19:21.042286Z"
    }
   },
   "outputs": [],
   "source": [
    "_range=[0.,100.]\n",
    "_offset=_range[0]\n",
    "_scale=_range[1]-_range[0]\n",
    "_min=-1.;_max=1.;\n",
    "\n",
    "def vec2color(vec):\n",
    "    return['grey'+str(int(_offset+_scale*(x-_min)/(_max-_min))) for x in vec]\n",
    "\n",
    "def graph_eig(G,v,filename):\n",
    "    node_n=shape(v)[0]\n",
    "    for j in range(min(10,node_n)):\n",
    "        colors=vec2color(v[:,j])\n",
    "        #print j,colors\n",
    "        for node in G.get_node_list():\n",
    "            i=int(node.get_name())\n",
    "            node.set_color(colors[i])\n",
    "        G.write_gif(\"%s.%d.gif\"%(filename,j))"
   ]
  },
  {
   "cell_type": "code",
   "execution_count": 7,
   "metadata": {
    "ExecuteTime": {
     "end_time": "2019-01-25T00:19:21.902367Z",
     "start_time": "2019-01-25T00:19:21.898507Z"
    }
   },
   "outputs": [],
   "source": [
    "def print_eig(w,v):\n",
    "    for i in range(node_n):\n",
    "        print(str(i),'eigval:%5.2f'%w[i], end=' ')\n",
    "        print('eigvec:',', '.join(['%5.1f'%x for x in v[:,i]]))"
   ]
  },
  {
   "cell_type": "code",
   "execution_count": 8,
   "metadata": {
    "ExecuteTime": {
     "end_time": "2019-01-25T00:19:22.629348Z",
     "start_time": "2019-01-25T00:19:22.625674Z"
    },
    "scrolled": true
   },
   "outputs": [],
   "source": [
    "def process_graph(filename):\n",
    "    G,gif_name=read_graph(filename)\n",
    "    w,v,A,D=calc_laplacian(G)\n",
    "    graph_eig(G,v,filename)\n",
    "    all_gifs=filename+\"*.gif\"\n",
    "    #!open $all_gifs\n",
    "    return w,v,A,D,G"
   ]
  },
  {
   "cell_type": "markdown",
   "metadata": {
    "heading_collapsed": true
   },
   "source": [
    "### The circle graph\n",
    "Is a simple graph where each node has two neighbors"
   ]
  },
  {
   "cell_type": "code",
   "execution_count": 9,
   "metadata": {
    "ExecuteTime": {
     "end_time": "2019-01-25T00:19:24.524770Z",
     "start_time": "2019-01-25T00:19:24.425575Z"
    },
    "hidden": true
   },
   "outputs": [
    {
     "ename": "FileNotFoundError",
     "evalue": "[Errno 2] No such file or directory: 'circle.dot'",
     "output_type": "error",
     "traceback": [
      "\u001b[0;31m---------------------------------------------------------------------------\u001b[0m",
      "\u001b[0;31mFileNotFoundError\u001b[0m                         Traceback (most recent call last)",
      "\u001b[0;32m<ipython-input-9-c42a725ddce0>\u001b[0m in \u001b[0;36m<module>\u001b[0;34m\u001b[0m\n\u001b[0;32m----> 1\u001b[0;31m \u001b[0mw\u001b[0m\u001b[0;34m,\u001b[0m\u001b[0mv\u001b[0m\u001b[0;34m,\u001b[0m\u001b[0mA\u001b[0m\u001b[0;34m,\u001b[0m\u001b[0mD\u001b[0m\u001b[0;34m,\u001b[0m\u001b[0mG\u001b[0m\u001b[0;34m=\u001b[0m\u001b[0mprocess_graph\u001b[0m\u001b[0;34m(\u001b[0m\u001b[0;34m'circle'\u001b[0m\u001b[0;34m)\u001b[0m\u001b[0;34m\u001b[0m\u001b[0m\n\u001b[0m",
      "\u001b[0;32m<ipython-input-8-9f30e3960f9b>\u001b[0m in \u001b[0;36mprocess_graph\u001b[0;34m(filename)\u001b[0m\n\u001b[1;32m      1\u001b[0m \u001b[0;32mdef\u001b[0m \u001b[0mprocess_graph\u001b[0m\u001b[0;34m(\u001b[0m\u001b[0mfilename\u001b[0m\u001b[0;34m)\u001b[0m\u001b[0;34m:\u001b[0m\u001b[0;34m\u001b[0m\u001b[0m\n\u001b[0;32m----> 2\u001b[0;31m     \u001b[0mG\u001b[0m\u001b[0;34m,\u001b[0m\u001b[0mgif_name\u001b[0m\u001b[0;34m=\u001b[0m\u001b[0mread_graph\u001b[0m\u001b[0;34m(\u001b[0m\u001b[0mfilename\u001b[0m\u001b[0;34m)\u001b[0m\u001b[0;34m\u001b[0m\u001b[0m\n\u001b[0m\u001b[1;32m      3\u001b[0m     \u001b[0mw\u001b[0m\u001b[0;34m,\u001b[0m\u001b[0mv\u001b[0m\u001b[0;34m,\u001b[0m\u001b[0mA\u001b[0m\u001b[0;34m,\u001b[0m\u001b[0mD\u001b[0m\u001b[0;34m=\u001b[0m\u001b[0mcalc_laplacian\u001b[0m\u001b[0;34m(\u001b[0m\u001b[0mG\u001b[0m\u001b[0;34m)\u001b[0m\u001b[0;34m\u001b[0m\u001b[0m\n\u001b[1;32m      4\u001b[0m     \u001b[0mgraph_eig\u001b[0m\u001b[0;34m(\u001b[0m\u001b[0mG\u001b[0m\u001b[0;34m,\u001b[0m\u001b[0mv\u001b[0m\u001b[0;34m,\u001b[0m\u001b[0mfilename\u001b[0m\u001b[0;34m)\u001b[0m\u001b[0;34m\u001b[0m\u001b[0m\n\u001b[1;32m      5\u001b[0m     \u001b[0mall_gifs\u001b[0m\u001b[0;34m=\u001b[0m\u001b[0mfilename\u001b[0m\u001b[0;34m+\u001b[0m\u001b[0;34m\"*.gif\"\u001b[0m\u001b[0;34m\u001b[0m\u001b[0m\n",
      "\u001b[0;32m<ipython-input-4-435dbc11bdb2>\u001b[0m in \u001b[0;36mread_graph\u001b[0;34m(filename)\u001b[0m\n\u001b[1;32m      3\u001b[0m \u001b[0mfilename\u001b[0m\u001b[0;34m=\u001b[0m\u001b[0;34m'twoD'\u001b[0m\u001b[0;34m\u001b[0m\u001b[0m\n\u001b[1;32m      4\u001b[0m \u001b[0;32mdef\u001b[0m \u001b[0mread_graph\u001b[0m\u001b[0;34m(\u001b[0m\u001b[0mfilename\u001b[0m\u001b[0;34m)\u001b[0m\u001b[0;34m:\u001b[0m\u001b[0;34m\u001b[0m\u001b[0m\n\u001b[0;32m----> 5\u001b[0;31m     \u001b[0mdot\u001b[0m\u001b[0;34m=\u001b[0m\u001b[0mopen\u001b[0m\u001b[0;34m(\u001b[0m\u001b[0mfilename\u001b[0m\u001b[0;34m+\u001b[0m\u001b[0;34m'.dot'\u001b[0m\u001b[0;34m,\u001b[0m\u001b[0;34m'r'\u001b[0m\u001b[0;34m)\u001b[0m\u001b[0;34m.\u001b[0m\u001b[0mreadlines\u001b[0m\u001b[0;34m(\u001b[0m\u001b[0;34m)\u001b[0m\u001b[0;34m\u001b[0m\u001b[0m\n\u001b[0m\u001b[1;32m      6\u001b[0m     \u001b[0mdot\u001b[0m\u001b[0;34m=\u001b[0m\u001b[0;34m''\u001b[0m\u001b[0;34m.\u001b[0m\u001b[0mjoin\u001b[0m\u001b[0;34m(\u001b[0m\u001b[0mdot\u001b[0m\u001b[0;34m)\u001b[0m\u001b[0;34m\u001b[0m\u001b[0m\n\u001b[1;32m      7\u001b[0m \u001b[0;34m\u001b[0m\u001b[0m\n",
      "\u001b[0;31mFileNotFoundError\u001b[0m: [Errno 2] No such file or directory: 'circle.dot'"
     ]
    }
   ],
   "source": [
    "w,v,A,D,G=process_graph('circle')"
   ]
  },
  {
   "cell_type": "code",
   "execution_count": 26,
   "metadata": {
    "ExecuteTime": {
     "end_time": "2019-01-24T03:29:41.075069Z",
     "start_time": "2019-01-24T03:29:40.876416Z"
    },
    "hidden": true,
    "scrolled": true
   },
   "outputs": [
    {
     "name": "stdout",
     "output_type": "stream",
     "text": [
      "eigenvals= [2.77555756e-16 5.85786438e-01 5.85786438e-01 2.00000000e+00]\n"
     ]
    },
    {
     "data": {
      "image/png": "[encoded data removed]",
      "text/plain": [
       "<Figure size 432x288 with 1 Axes>"
      ]
     },
     "metadata": {
      "needs_background": "light"
     },
     "output_type": "display_data"
    }
   ],
   "source": [
    "print('eigenvals=',w[:4])\n",
    "plot(v[:,:5]);\n",
    "title('eigenvector for lowest eigenvalues for line graph');"
   ]
  },
  {
   "cell_type": "code",
   "execution_count": 29,
   "metadata": {
    "ExecuteTime": {
     "end_time": "2019-01-24T03:31:20.959062Z",
     "start_time": "2019-01-24T03:31:20.954759Z"
    },
    "hidden": true,
    "scrolled": true
   },
   "outputs": [
    {
     "name": "stdout",
     "output_type": "stream",
     "text": [
      "[[ 2. -1.  0.  0.  0.  0.  0. -1.]\n",
      " [-1.  2. -1.  0.  0.  0.  0.  0.]\n",
      " [ 0. -1.  2. -1.  0.  0.  0.  0.]\n",
      " [ 0.  0. -1.  2. -1.  0.  0.  0.]\n",
      " [ 0.  0.  0. -1.  2. -1.  0.  0.]\n",
      " [ 0.  0.  0.  0. -1.  2. -1.  0.]\n",
      " [ 0.  0.  0.  0.  0. -1.  2. -1.]\n",
      " [-1.  0.  0.  0.  0.  0. -1.  2.]]\n"
     ]
    }
   ],
   "source": [
    "L=D-A\n",
    "print(L)"
   ]
  },
  {
   "cell_type": "code",
   "execution_count": 45,
   "metadata": {
    "ExecuteTime": {
     "end_time": "2019-01-24T03:37:09.042675Z",
     "start_time": "2019-01-24T03:37:08.862356Z"
    },
    "hidden": true
   },
   "outputs": [
    {
     "data": {
      "text/plain": [
       "[<matplotlib.lines.Line2D at 0x118851cf8>]"
      ]
     },
     "execution_count": 45,
     "metadata": {},
     "output_type": "execute_result"
    },
    {
     "data": {
      "image/png": "[encoded data removed]",
      "text/plain": [
       "<Figure size 432x288 with 1 Axes>"
      ]
     },
     "metadata": {
      "needs_background": "light"
     },
     "output_type": "display_data"
    }
   ],
   "source": [
    "delta=np.zeros(8)\n",
    "delta[4]=1\n",
    "plot(delta)\n",
    "X=np.array(delta*L)\n",
    "plot(X[0,:])"
   ]
  },
  {
   "cell_type": "markdown",
   "metadata": {},
   "source": [
    "### The line graph\n",
    "Is a simple graph where each node has two neighbors other then the two endpoints that have just one neighbor."
   ]
  },
  {
   "cell_type": "code",
   "execution_count": 10,
   "metadata": {
    "ExecuteTime": {
     "end_time": "2019-01-25T00:20:02.991041Z",
     "start_time": "2019-01-25T00:20:02.305242Z"
    }
   },
   "outputs": [],
   "source": [
    "w,v,A,D,G=process_graph('line')"
   ]
  },
  {
   "cell_type": "code",
   "execution_count": 13,
   "metadata": {
    "ExecuteTime": {
     "end_time": "2019-01-25T00:21:23.075551Z",
     "start_time": "2019-01-25T00:21:23.070260Z"
    }
   },
   "outputs": [
    {
     "data": {
      "text/plain": [
       "array([[ 1., -1.,  0.,  0.,  0.],\n",
       "       [-1.,  2., -1.,  0.,  0.],\n",
       "       [ 0., -1.,  2., -1.,  0.],\n",
       "       [ 0.,  0., -1.,  2., -1.],\n",
       "       [ 0.,  0.,  0., -1.,  2.]])"
      ]
     },
     "execution_count": 13,
     "metadata": {},
     "output_type": "execute_result"
    }
   ],
   "source": [
    "L=np.array(D-A)\n",
    "L[:5,:5]"
   ]
  },
  {
   "cell_type": "code",
   "execution_count": 17,
   "metadata": {
    "ExecuteTime": {
     "end_time": "2019-01-25T00:21:53.331923Z",
     "start_time": "2019-01-25T00:21:53.141512Z"
    },
    "scrolled": false
   },
   "outputs": [
    {
     "name": "stdout",
     "output_type": "stream",
     "text": [
      "eigenvals= [-1.90991132e-16  1.71102773e-02  6.81483474e-02  1.52240935e-01]\n"
     ]
    },
    {
     "data": {
      "image/png": "[encoded data removed]",
      "text/plain": [
       "<Figure size 432x288 with 1 Axes>"
      ]
     },
     "metadata": {
      "needs_background": "light"
     },
     "output_type": "display_data"
    }
   ],
   "source": [
    "print('eigenvals=',w[:4])\n",
    "plot(v[:,:4]);\n",
    "title('eigenvector for lowest eigenvalues for line graph');"
   ]
  },
  {
   "cell_type": "markdown",
   "metadata": {},
   "source": [
    "The first eigen vector is a constant that has an eigen-value of zero. The second one is the  most useful for us: it gives us a parameterization from -0.3 to +0.3 along the line."
   ]
  },
  {
   "cell_type": "code",
   "execution_count": 18,
   "metadata": {
    "ExecuteTime": {
     "end_time": "2019-01-25T00:22:26.599646Z",
     "start_time": "2019-01-25T00:22:26.426159Z"
    }
   },
   "outputs": [
    {
     "data": {
      "image/png": "[encoded data removed]",
      "text/plain": [
       "<Figure size 432x288 with 1 Axes>"
      ]
     },
     "metadata": {
      "needs_background": "light"
     },
     "output_type": "display_data"
    }
   ],
   "source": [
    "plot(w)\n",
    "xlabel('index')\n",
    "ylabel('eigenvalue')\n",
    "title('eigenvalues for line graph');"
   ]
  },
  {
   "cell_type": "markdown",
   "metadata": {},
   "source": [
    "### A 2D graph"
   ]
  },
  {
   "cell_type": "code",
   "execution_count": 24,
   "metadata": {
    "ExecuteTime": {
     "end_time": "2019-01-25T01:07:30.173916Z",
     "start_time": "2019-01-25T01:07:29.380043Z"
    }
   },
   "outputs": [
    {
     "name": "stdout",
     "output_type": "stream",
     "text": [
      "[-6.47714478e-16  5.85786438e-01  5.85786438e-01  1.17157288e+00\n",
      "  2.00000000e+00  2.00000000e+00]\n"
     ]
    }
   ],
   "source": [
    "w,v,A,D,G=process_graph('twoD')\n",
    "print(w[:6])\n",
    "!open twoD.[012].gif       \n",
    "\n"
   ]
  },
  {
   "cell_type": "markdown",
   "metadata": {
    "collapsed": true
   },
   "source": [
    "Consider the three eigen-vectors with the smallest eigenvalues.\n",
    "\n",
    "* Eigenvector 0: The uniform vector is always an eigenvector with eigen-value 0.\n",
    "* Eigenvectors 1 and 2: these are, for us, the most meaningful eigenvectors. They have the smallest eigen-value that is not zero (0.59) which means that they are the slowest to decay. As we see, these eigenvectors capture the 2D structure of the graph. Specifically, eigen-vector 1 assigns to each vertex a value proportional to the distance from vertex 15. While eigen-vector 2 assigns it the distance from vertex 3. It is not hard to see that these two values form a 2D coordinate system for the 2D graph.\n",
    "![pic](images/EigenVectors/twoD.1.jpg)"
   ]
  },
  {
   "cell_type": "markdown",
   "metadata": {},
   "source": [
    "Higher order eigen-vectors have larger eigen-values and corresponds to patterns that vary more rapidly across the graph.\n",
    "\n",
    "![pic](images/EigenVectors/twoD.2.jpg)"
   ]
  },
  {
   "cell_type": "markdown",
   "metadata": {},
   "source": [
    "### random walk\n",
    "The heat dispersion process is intimately related to another physical process: the random walk.\n",
    "\n",
    "The **Lazy random walk** process can be described as follows: A pebble is placed on one of the nodes of the graph, the the following process ensues. First, with probabities 1/2,1/2 a choice is made whether to *stay put* or to *move* to one of the neighboring nodes. If the choice is to move, the specific neighbor is chosen at random with equal probability for all of the neighbors.\n",
    "\n",
    "Now imagine that there is a huge number of pebbles and that they are all performing random walk at the same time. We can think about the fraction of pebbles on each node as a probability distribution and ask how this distribution evolved over time.\n",
    "\n",
    "Denote by $p_i^t$ the fraction of the pebbles that is on node $i$ at time $t$. Then the update rule for the probabilities is:\n",
    "$$\n",
    "p_i^{t+1} = \\frac{1}{2}\\left( p_i^t +  \\sum_{j \\in N(i)} \\frac{p_j^t}{d_j} \\right)\n",
    "$$\n",
    "\n",
    "We can re-write this in matrix form:\n",
    "$$\n",
    "p^{t+1} = \\frac{1}{2} \\left(I + A D^{-1} \\right) p^t\n",
    "$$"
   ]
  },
  {
   "cell_type": "code",
   "execution_count": 17,
   "metadata": {},
   "outputs": [],
   "source": [
    "filename='star'\n",
    "w,v,A,D,G=process_graph(filename)\n",
    "node_n = shape(A)[0]\n",
    "DI = matrix(np.zeros([node_n,node_n])) # Inverse of degree matrix \n",
    "for i in range(node_n):\n",
    "    DI[i,i]=1./D[i,i]\n",
    "W=0.5*(eye(node_n)+A*DI)"
   ]
  },
  {
   "cell_type": "code",
   "execution_count": 18,
   "metadata": {},
   "outputs": [
    {
     "name": "stdout",
     "output_type": "stream",
     "text": [
      "0 eigval: 1.00 eigvec:   0.9,   0.1,   0.1,   0.1,   0.1,   0.1,   0.1,   0.1\n",
      "1 eigval: 0.00 eigvec:   0.9,  -0.1,  -0.1,  -0.1,  -0.1,  -0.1,  -0.1,  -0.1\n",
      "2 eigval: 0.50 eigvec:   0.0,  -0.4,   0.9,  -0.1,  -0.1,  -0.1,  -0.1,  -0.1\n",
      "3 eigval: 0.50 eigvec:  -0.0,   0.5,   0.2,   0.5,  -0.3,  -0.3,  -0.3,  -0.3\n",
      "4 eigval: 0.50 eigvec:   0.0,  -0.7,  -0.2,   0.6,   0.1,   0.1,   0.1,   0.1\n",
      "5 eigval: 0.50 eigvec:   0.0,   0.0,  -0.0,  -0.0,  -0.5,   0.5,   0.5,  -0.5\n",
      "6 eigval: 0.50 eigvec:  -0.0,  -0.0,  -0.0,  -0.0,   0.5,   0.5,  -0.6,  -0.4\n",
      "7 eigval: 0.50 eigvec:   0.0,  -0.0,  -0.0,  -0.0,  -0.8,   0.6,  -0.1,   0.3\n"
     ]
    }
   ],
   "source": [
    "ww,vv=eig(W)\n",
    "print_eig(ww,vv)"
   ]
  },
  {
   "cell_type": "code",
   "execution_count": 19,
   "metadata": {},
   "outputs": [],
   "source": [
    "graph_eig(G,vv,filename+'.RW')\n",
    "fname=filename+'*.gif'\n",
    "!open $fname"
   ]
  },
  {
   "cell_type": "code",
   "execution_count": null,
   "metadata": {
    "collapsed": true
   },
   "outputs": [],
   "source": []
  }
 ],
 "metadata": {
  "anaconda-cloud": {},
  "hide_input": false,
  "kernelspec": {
   "display_name": "Python 3",
   "language": "python",
   "name": "python3"
  },
  "language_info": {
   "codemirror_mode": {
    "name": "ipython",
    "version": 3
   },
   "file_extension": ".py",
   "mimetype": "text/x-python",
   "name": "python",
   "nbconvert_exporter": "python",
   "pygments_lexer": "ipython3",
   "version": "3.7.0"
  },
  "toc": {
   "base_numbering": 1,
   "nav_menu": {
    "height": "48px",
    "width": "252px"
   },
   "number_sections": true,
   "sideBar": true,
   "skip_h1_title": false,
   "title_cell": "Table of Contents",
   "title_sidebar": "Contents",
   "toc_cell": false,
   "toc_position": {},
   "toc_section_display": "block",
   "toc_window_display": false
  }
 },
 "nbformat": 4,
 "nbformat_minor": 2
}
