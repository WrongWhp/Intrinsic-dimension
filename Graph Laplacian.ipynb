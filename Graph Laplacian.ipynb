{
 "cells": [
  {
   "cell_type": "markdown",
   "metadata": {},
   "source": [
    "## Spectral graph analysis\n",
    "* [Excellent Class notes of course by Professor Daniel Spielman](http://www.cs.yale.edu/homes/spielman/561/2012/)\n",
    "\n",
    "Spectral Graph analysis provides one of the most interesting non-linear and non-parametric methods for data analysis. The only structure we need to perform this kind of analysis is a rule that tells us which datapoints are \"similar\" and which are not. This very local information is used to create a graph and the Laplace transform is used to provide a global characterization of the graph.\n",
    "\n",
    "Through this analysis we gain useful insights into the structure of our dataset. In particular, we will show how to use it to partition the graph into clusters and to embed the graph in a low dimensional euclidean space.\n",
    "\n",
    "#### From data points to a graph\n",
    "\n",
    "Let us define a graph $G=(V,E)$ where the vertices (nodes) correspond to data points, and edges connect \"similar\" points. For example, we might define a function that measures the distance between data points. We can define the edges in various ways. One way put an edge between any two vertices if the distance between the corresponding points is smaller than some threshold. Another way is to connect each point to the $k$ closest points.(Weighted edges are also allowed, but for the analysis given here, we assume all edges have equal weight).\n",
    "\n",
    "#### The Laplace matrix captures the dynamics of heat dispersion.\n",
    "\n",
    "Imagine the graph $G=(V,E)$ as representing a physical object. Suppose the vertices are metal balls and the edges are metal rods connecting the balls.\n",
    "Suppose that at time zero each ball (vertex) $v$ is set at a different temperature. At each time step heat flows from the warmer balls to the cooler balls. After a long enough time, the temperature of all of the balls will be the same. What we want to analyze is the way in which this limit would be reached. \n",
    "\n",
    "In order to define the Laplace matrix, let us assume that the vertices are indexed by integers $1,\\ldots,n$. Denote the temperature of vertex $i$ at time $T$ by $T_i^t$.\n",
    "Denote set of neighbors of vertes $i$ by $N(i)$.\n",
    "\n",
    "Heat dispersion is a process that minimizes the square of the difference in temperature between neighboring balls. For node $i$ this is equivalent to minimizing the sum\n",
    "$$\n",
    "Pot^t_i = \\sum_{j \\in N(i)} (T^t_j - T^t_i)^2\n",
    "$$\n",
    "\n",
    "The time evolution of the temperature at node $i$ is proportional to the gradient of $Pot_i^t$ with respect to $t$\n",
    "$$\n",
    "\\Delta_i^t \\doteq T_i^{t+1}-T_i^{t} = C \\sum_{j \\in N(i)} (T^t_j - T^t_i) = C \\left(\\left(\\sum_{j \\in N(i)} T^t_j\\right) - \\left|N(i)\\right| T^t_i \\right)\n",
    "$$\n",
    "Where $C$ is a conductance constant which is set small enough that this discrete time process will be close to the physical process that occurs in continuous time. $|N(i)|$ is the size of the set of neighbors $N(i)$\n",
    "\n",
    "Denote by $T^t$ the column vector $(T_1^t,T_2^t,\\ldots,T_n^t)^{\\top}$ and by $\\Delta^t$ the column vector\n",
    "$(\\Delta_1^t,\\Delta_2^t,\\ldots,\\Delta_n^t)^{\\top}$. Clearly $\\Delta^t$ is a linear function of $T^t$. We can express this relation using matrix notation as follows.\n",
    "\n",
    "Define the Adjacency matrix as follows:\n",
    "$$A_{i,j} = \\cases{1 & \\text{there is an edge between $i$ and $j$} \\\\\n",
    "                   0 & \\text{otherwise} }$$\n",
    "Define the Degree matrix to be a diagonal matrix where the element $D_{i,i}$ is the degree of vertex $i$, which is to say, the number of vertices for which $i$ is one of the end points. (self loops are not allowed).\n",
    "\n",
    "Using the matrices $A$ and $D$ we can define the Laplace matrix to be \n",
    "$$L= D-A$$\n",
    "and we can then express the relationship between $\\Delta^t$ and $T^t$ as $\\Delta^t = -C L T^t$.\n",
    "\n",
    "As L is a symmetric matrix it can be expressed as an eigen-decomposition:\n",
    "\n",
    "$$L = O \\Lambda O^{\\top}$$ \n",
    "where $O$ is an orthonormal matrix whose coumns are the eigenvectors of $L$, which we denote by $V_0,\\ldots,V_n$, and $\\Lambda$ is a diagonal matrix whose diagonal values are the corresponding eigen-values $\\lambda_1,\\ldots,\\lambda_n$\n",
    "\n",
    "A few observations are in order:\n",
    "* The vector $\\frac{1}{\\sqrt{n}}(1,1,\\ldots,1)^{\\top}$ is an eigen-vector whose eigen value is zero. This corresponds to the observation that if all of the balls are at the same temperature than the temperatures of all balls will remain the same, i.e. $\\Delta^t = 0$.\n",
    "We call this eigen-vector $V^0$. As $V^0$ is independent of properties of the graph (other than being connected) it provides us with no information.\n",
    "* We decompose the initial temperature vector $T^0$ using the eigenvectors:\n",
    "$T^0 = \\sum_{i=1}^n a_i V_i$, then the time evolution of the temperature can be decomposed as follows:\n",
    "$$\n",
    "T^1=T^0+\\Delta^0 = T^0-C L T^0 = \\sum_i a_i (1-C\\lambda_i) V_i\n",
    "$$\n",
    "we can repeat this relationship for time steps $t=1,2,3,\\ldots,t$ and find that\n",
    "$$\n",
    "T^t = \\sum_i a_i (1-C\\lambda_i)^t V_i\n",
    "$$\n",
    "We claim without proof that the eigenvalues are non-negative. We Assume that $C$ is small enough that $C\\lambda <1$. As as result we get that the coefficient of $V_0$ remains unchanged throughout time. As for the coefficients of any other eigen-vector $V_i$ it progresses as $a_i,a_i(1-C\\lambda_i),\\ldots,a_i(1-C\\lambda_i)^t,\\ldots$, and as $\\lambda_i>0$, $(1-C\\lambda_i)<1$ and raising this number to the power $t$ decreases exponentially to zero. In other words, the coefficients of all eigenvectors other than $V_0$ decay to zero over time. The **rate** of the decay is determined by the eigen-value. If the eigen-value is close to zero, then the decay is slow. We are thus interested in the eigen-vectors whose eigen values are **close** to zero, but not equal to zero - which corresponds to the uniform eigen-vector $V_0$.\n",
    "* Compare this analysis to PCA, there as here, we use an eigen-decomposition. However, in PCA we are most interested in the eigen-vectors with the largest eigen-values, while here we are interested in the eigen-vectors whose eigen-values are second-smallest, third smallest etc.\n",
    "\n"
   ]
  },
  {
   "cell_type": "code",
   "execution_count": 1,
   "metadata": {
    "ExecuteTime": {
     "end_time": "2019-01-24T03:00:56.611959Z",
     "start_time": "2019-01-24T03:00:56.270446Z"
    }
   },
   "outputs": [
    {
     "name": "stdout",
     "output_type": "stream",
     "text": [
      "Populating the interactive namespace from numpy and matplotlib\n"
     ]
    }
   ],
   "source": [
    "%pylab inline\n",
    "import numpy as np"
   ]
  },
  {
   "cell_type": "markdown",
   "metadata": {
    "collapsed": true
   },
   "source": [
    "### Definition of some graphs"
   ]
  },
  {
   "cell_type": "code",
   "execution_count": 2,
   "metadata": {
    "ExecuteTime": {
     "end_time": "2019-01-24T03:00:59.904256Z",
     "start_time": "2019-01-24T03:00:59.899493Z"
    }
   },
   "outputs": [
    {
     "name": "stdout",
     "output_type": "stream",
     "text": [
      "Overwriting line.dot\n"
     ]
    }
   ],
   "source": [
    "%%writefile line.dot\n",
    "graph G {\n",
    "0 [style=filled];\n",
    "1 [style=filled];\n",
    "2 [style=filled];\n",
    "3 [style=filled];\n",
    "4 [style=filled];\n",
    "5 [style=filled];\n",
    "6 [style=filled];\n",
    "7 [style=filled];\n",
    "8 [style=filled];\n",
    "9 [style=filled];\n",
    "10 [style=filled];\n",
    "11 [style=filled];\n",
    "12 [style=filled];\n",
    "13 [style=filled];\n",
    "14 [style=filled];\n",
    "15 [style=filled];\n",
    "16 [style=filled];\n",
    "17 [style=filled];\n",
    "18 [style=filled];\n",
    "19 [style=filled];\n",
    "20 [style=filled];\n",
    "21 [style=filled];\n",
    "22 [style=filled];\n",
    "23 [style=filled];\n",
    "0--1--2--3--4--5--6--7--8--9--10--11--12--13--14--15--16--17--18--19--20--21--22--23;\n",
    "}"
   ]
  },
  {
   "cell_type": "code",
   "execution_count": 3,
   "metadata": {
    "ExecuteTime": {
     "end_time": "2019-01-24T03:01:00.936673Z",
     "start_time": "2019-01-24T03:01:00.932186Z"
    }
   },
   "outputs": [
    {
     "name": "stdout",
     "output_type": "stream",
     "text": [
      "Overwriting star.dot\n"
     ]
    }
   ],
   "source": [
    "%%writefile star.dot\n",
    "graph G {\n",
    "0 [style=filled];\n",
    "1 [style=filled];\n",
    "2 [style=filled];\n",
    "3 [style=filled];\n",
    "4 [style=filled];\n",
    "5 [style=filled];\n",
    "6 [style=filled];\n",
    "7 [style=filled];\n",
    "0--1;\n",
    "0--2;\n",
    "0--3;\n",
    "0--4;\n",
    "0--5;\n",
    "0--6;\n",
    "0--7;\n",
    "}"
   ]
  },
  {
   "cell_type": "code",
   "execution_count": 4,
   "metadata": {
    "ExecuteTime": {
     "end_time": "2019-01-24T03:01:01.649399Z",
     "start_time": "2019-01-24T03:01:01.645211Z"
    }
   },
   "outputs": [
    {
     "name": "stdout",
     "output_type": "stream",
     "text": [
      "Overwriting circle.dot\n"
     ]
    }
   ],
   "source": [
    "%%writefile circle.dot\n",
    "graph G {\n",
    "0 [style=filled];\n",
    "1 [style=filled];\n",
    "2 [style=filled];\n",
    "3 [style=filled];\n",
    "4 [style=filled];\n",
    "5 [style=filled];\n",
    "6 [style=filled];\n",
    "7 [style=filled];\n",
    "0--1--2--3--4--5--6--7--0;\n",
    "}"
   ]
  },
  {
   "cell_type": "code",
   "execution_count": 5,
   "metadata": {
    "ExecuteTime": {
     "end_time": "2019-01-24T03:01:02.281112Z",
     "start_time": "2019-01-24T03:01:02.276447Z"
    }
   },
   "outputs": [
    {
     "name": "stdout",
     "output_type": "stream",
     "text": [
      "Overwriting twoblobs.dot\n"
     ]
    }
   ],
   "source": [
    "%%writefile twoblobs.dot\n",
    "graph G {\n",
    "0 [style=filled];\n",
    "1 [style=filled];\n",
    "2 [style=filled];\n",
    "3 [style=filled];\n",
    "4 [style=filled];\n",
    "5 [style=filled];\n",
    "6 [style=filled];\n",
    "7 [style=filled];\n",
    "0--1; 0--2; 0--3;\n",
    "1--2;1--3;\n",
    "2--3;\n",
    "3--4;\n",
    "4--5;4--6;4--7;\n",
    "5--6;5--7;\n",
    "6--7;\n",
    "}"
   ]
  },
  {
   "cell_type": "code",
   "execution_count": 6,
   "metadata": {
    "ExecuteTime": {
     "end_time": "2019-01-24T03:01:02.848097Z",
     "start_time": "2019-01-24T03:01:02.844040Z"
    }
   },
   "outputs": [
    {
     "name": "stdout",
     "output_type": "stream",
     "text": [
      "Overwriting twoD.dot\n"
     ]
    }
   ],
   "source": [
    "%%writefile twoD.dot\n",
    "graph G {\n",
    "0 [style=filled];\n",
    "1 [style=filled];\n",
    "2 [style=filled];\n",
    "3 [style=filled];\n",
    "4 [style=filled];\n",
    "5 [style=filled];\n",
    "6 [style=filled];\n",
    "7 [style=filled];\n",
    "8 [style=filled];\n",
    "9 [style=filled];\n",
    "10 [style=filled];\n",
    "11 [style=filled];\n",
    "12 [style=filled];\n",
    "13 [style=filled];\n",
    "14 [style=filled];\n",
    "15 [style=filled];\n",
    "\n",
    "\n",
    "0--1--2--3;\n",
    "4--5--6--7;\n",
    "8--9--10--11;\n",
    "12--13--14--15;\n",
    "0--4--8--12;\n",
    "1--5--9--13;\n",
    "2--6--10--14;\n",
    "3--7--11--15;\n",
    "}"
   ]
  },
  {
   "cell_type": "markdown",
   "metadata": {},
   "source": [
    "### Read and display a graph"
   ]
  },
  {
   "cell_type": "code",
   "execution_count": 33,
   "metadata": {
    "ExecuteTime": {
     "end_time": "2019-01-24T03:12:36.527863Z",
     "start_time": "2019-01-24T03:12:36.523682Z"
    }
   },
   "outputs": [],
   "source": [
    "import pydot\n",
    "filenames=['circle', 'line', 'star', 'torus', 'twoD', 'twoblobs']\n",
    "filename='twoD'\n",
    "def read_graph(filename):\n",
    "    dot=open(filename+'.dot','r').readlines()\n",
    "    dot=''.join(dot)\n",
    "\n",
    "    G,=pydot.dot_parser.parse_dot_data(dot)\n",
    "    gif_name=filename+'.gif'\n",
    "    G.write_gif(gif_name)\n",
    "    return G,gif_name\n"
   ]
  },
  {
   "cell_type": "markdown",
   "metadata": {},
   "source": [
    "### Compute graph matrices\n",
    "* A: Adjacency matrix\n",
    "* D: Degree Matrix"
   ]
  },
  {
   "cell_type": "code",
   "execution_count": 34,
   "metadata": {
    "ExecuteTime": {
     "end_time": "2019-01-24T03:12:37.224394Z",
     "start_time": "2019-01-24T03:12:37.218159Z"
    }
   },
   "outputs": [],
   "source": [
    "from numpy.linalg import eigh\n",
    "from numpy import matrix\n",
    "\n",
    "def calc_laplacian(G):\n",
    "    node_n=len(G.get_nodes())\n",
    "    A=matrix(np.zeros([node_n,node_n])) # adjacency matrix\n",
    "    for edge in G.get_edge_list():\n",
    "        _i=int(edge.get_source())\n",
    "        _j=int(edge.get_destination())\n",
    "        A[_i,_j]=1\n",
    "        A[_j,_i]=1\n",
    "\n",
    "    D=matrix(np.zeros([node_n,node_n])) # degree matrix \n",
    "    for i in range(node_n):\n",
    "        D[i,i]=sum(A[i,:])\n",
    "    L=D-A  # the laplacian\n",
    "\n",
    "    w,v=eigh(L) # perform eigen-decomposition of a symmetric (Hermitian) matrix\n",
    "    return w,v,A,D"
   ]
  },
  {
   "cell_type": "markdown",
   "metadata": {},
   "source": [
    "### Find eigen-decomposition of laplacian"
   ]
  },
  {
   "cell_type": "code",
   "execution_count": 35,
   "metadata": {
    "ExecuteTime": {
     "end_time": "2019-01-24T03:12:37.633858Z",
     "start_time": "2019-01-24T03:12:37.627740Z"
    }
   },
   "outputs": [],
   "source": [
    "_range=[0.,100.]\n",
    "_offset=_range[0]\n",
    "_scale=_range[1]-_range[0]\n",
    "_min=-1.;_max=1.;\n",
    "\n",
    "def vec2color(vec):\n",
    "    return['grey'+str(int(_offset+_scale*(x-_min)/(_max-_min))) for x in vec]\n",
    "\n",
    "def graph_eig(G,v,filename):\n",
    "    node_n=shape(v)[0]\n",
    "    for j in range(min(10,node_n)):\n",
    "        colors=vec2color(v[:,j])\n",
    "        #print j,colors\n",
    "        for node in G.get_node_list():\n",
    "            i=int(node.get_name())\n",
    "            node.set_color(colors[i])\n",
    "        G.write_gif(\"%s.%d.gif\"%(filename,j))"
   ]
  },
  {
   "cell_type": "code",
   "execution_count": 36,
   "metadata": {
    "ExecuteTime": {
     "end_time": "2019-01-24T03:12:37.854091Z",
     "start_time": "2019-01-24T03:12:37.850318Z"
    }
   },
   "outputs": [],
   "source": [
    "def print_eig(w,v):\n",
    "    for i in range(node_n):\n",
    "        print(str(i),'eigval:%5.2f'%w[i], end=' ')\n",
    "        print('eigvec:',', '.join(['%5.1f'%x for x in v[:,i]]))"
   ]
  },
  {
   "cell_type": "code",
   "execution_count": 37,
   "metadata": {
    "ExecuteTime": {
     "end_time": "2019-01-24T03:12:38.048618Z",
     "start_time": "2019-01-24T03:12:38.043519Z"
    },
    "scrolled": true
   },
   "outputs": [],
   "source": [
    "def process_graph(filename):\n",
    "    G,gif_name=read_graph(filename)\n",
    "    w,v,A,D=calc_laplacian(G)\n",
    "    graph_eig(G,v,filename)\n",
    "    all_gifs=filename+\"*.gif\"\n",
    "    !open $all_gifs\n",
    "    return w,v,A,D,G"
   ]
  },
  {
   "cell_type": "markdown",
   "metadata": {},
   "source": [
    "### The two-blob graph\n",
    "also called the dumbbell graph, consists of two cliques (fully connected sub-graphs) connected by a single edge."
   ]
  },
  {
   "cell_type": "raw",
   "metadata": {
    "ExecuteTime": {
     "end_time": "2019-01-24T03:08:41.180997Z",
     "start_time": "2019-01-24T03:08:41.044391Z"
    }
   },
   "source": [
    "filename='twoblobs'\n",
    "dot=open(filename+'.dot','r').readlines()\n",
    "dot=''.join(dot)\n",
    "G=pydot.dot_parser.parse_dot_data(dot)\n",
    "G[0].write_gif('file.gif')"
   ]
  },
  {
   "cell_type": "code",
   "execution_count": 38,
   "metadata": {
    "ExecuteTime": {
     "end_time": "2019-01-24T03:12:39.884703Z",
     "start_time": "2019-01-24T03:12:39.265019Z"
    }
   },
   "outputs": [],
   "source": [
    "w,v,A,D,G=process_graph('twoblobs')"
   ]
  },
  {
   "cell_type": "markdown",
   "metadata": {},
   "source": [
    "This graph is clearly separable into two clusters, corresponding to the two cliques. The second eigenvector identifies these clusters nicely!\n",
    "In fact, there is an approach to clustering based on this analysis that is called [Spectral Clustering](https://en.wikipedia.org/wiki/Spectral_clustering), it has also gained popularity in computer vision as [Spectral Clustering for Image Segmentation](http://scikit-learn.org/stable/auto_examples/cluster/plot_segmentation_toy.html)\n",
    "\n",
    "![pic](images/EigenVectors/twoBlob.jpg)"
   ]
  },
  {
   "cell_type": "markdown",
   "metadata": {},
   "source": [
    "### The circle graph\n",
    "Is a simple graph where each node has two neighbors"
   ]
  },
  {
   "cell_type": "code",
   "execution_count": 43,
   "metadata": {
    "ExecuteTime": {
     "end_time": "2019-01-24T03:18:31.815093Z",
     "start_time": "2019-01-24T03:18:31.148365Z"
    }
   },
   "outputs": [],
   "source": [
    "w,v,A,D,G=process_graph('circle')"
   ]
  },
  {
   "cell_type": "code",
   "execution_count": 44,
   "metadata": {
    "ExecuteTime": {
     "end_time": "2019-01-24T03:19:08.020241Z",
     "start_time": "2019-01-24T03:19:07.823354Z"
    }
   },
   "outputs": [
    {
     "name": "stdout",
     "output_type": "stream",
     "text": [
      "eigenvals= [2.77555756e-16 5.85786438e-01 5.85786438e-01 2.00000000e+00]\n"
     ]
    },
    {
     "data": {
      "image/png": "[encoded data removed]",
      "text/plain": [
       "<Figure size 432x288 with 1 Axes>"
      ]
     },
     "metadata": {
      "needs_background": "light"
     },
     "output_type": "display_data"
    }
   ],
   "source": [
    "print('eigenvals=',w[:4])\n",
    "plot(v[:,:5]);\n",
    "title('eigenvector for lowest eigenvalues for line graph');"
   ]
  },
  {
   "cell_type": "markdown",
   "metadata": {},
   "source": [
    "### The line graph\n",
    "Is a simple graph where each node has two neighbors other then the two endpoints that have just one neighbor."
   ]
  },
  {
   "cell_type": "code",
   "execution_count": 45,
   "metadata": {
    "ExecuteTime": {
     "end_time": "2019-01-24T03:22:37.226700Z",
     "start_time": "2019-01-24T03:22:36.325774Z"
    }
   },
   "outputs": [],
   "source": [
    "w,v,A,D,G=process_graph('line')"
   ]
  },
  {
   "cell_type": "code",
   "execution_count": 32,
   "metadata": {
    "ExecuteTime": {
     "end_time": "2019-01-24T03:11:14.864440Z",
     "start_time": "2019-01-24T03:11:14.643164Z"
    },
    "scrolled": true
   },
   "outputs": [
    {
     "name": "stdout",
     "output_type": "stream",
     "text": [
      "eigenvals= [-1.90991132e-16  1.71102773e-02  6.81483474e-02  1.52240935e-01]\n"
     ]
    },
    {
     "data": {
      "image/png": "[encoded data removed]",
      "text/plain": [
       "<Figure size 432x288 with 1 Axes>"
      ]
     },
     "metadata": {
      "needs_background": "light"
     },
     "output_type": "display_data"
    }
   ],
   "source": [
    "print('eigenvals=',w[:4])\n",
    "plot(v[:,:5]);\n",
    "title('eigenvector for lowest eigenvalues for line graph');"
   ]
  },
  {
   "cell_type": "markdown",
   "metadata": {},
   "source": [
    "The first eigen vector is a constant that has an eigen-value of zero. The second one is the  most useful for us: it gives us a parameterization from -0.3 to +0.3 along the line."
   ]
  },
  {
   "cell_type": "code",
   "execution_count": 40,
   "metadata": {
    "ExecuteTime": {
     "end_time": "2019-01-24T03:14:07.491326Z",
     "start_time": "2019-01-24T03:14:07.303824Z"
    }
   },
   "outputs": [
    {
     "data": {
      "image/png": "[encoded data removed]",
      "text/plain": [
       "<Figure size 432x288 with 1 Axes>"
      ]
     },
     "metadata": {
      "needs_background": "light"
     },
     "output_type": "display_data"
    }
   ],
   "source": [
    "plot(w)\n",
    "xlabel('index')\n",
    "ylabel('eigenvalue')\n",
    "title('eigenvalues for line graph');"
   ]
  },
  {
   "cell_type": "markdown",
   "metadata": {},
   "source": [
    "### A 2D graph"
   ]
  },
  {
   "cell_type": "code",
   "execution_count": 42,
   "metadata": {
    "ExecuteTime": {
     "end_time": "2019-01-24T03:14:53.649361Z",
     "start_time": "2019-01-24T03:14:52.752317Z"
    }
   },
   "outputs": [
    {
     "name": "stdout",
     "output_type": "stream",
     "text": [
      "[-6.47714478e-16  5.85786438e-01  5.85786438e-01  1.17157288e+00\n",
      "  2.00000000e+00  2.00000000e+00]\n"
     ]
    }
   ],
   "source": [
    "w,v,A,D,G=process_graph('twoD')\n",
    "print(w[:6])"
   ]
  },
  {
   "cell_type": "markdown",
   "metadata": {
    "collapsed": true
   },
   "source": [
    "Consider the three eigen-vectors with the smallest eigenvalues.\n",
    "\n",
    "* Eigenvector 0: The uniform vector is always an eigenvector with eigen-value 0.\n",
    "* Eigenvectors 1 and 2: these are, for us, the most meaningful eigenvectors. They have the smallest eigen-value that is not zero (0.59) which means that they are the slowest to decay. As we see, these eigenvectors capture the 2D structure of the graph. Specifically, eigen-vector 1 assigns to each vertex a value proportional to the distance from vertex 15. While eigen-vector 2 assigns it the distance from vertex 3. It is not hard to see that these two values form a 2D coordinate system for the 2D graph.\n",
    "![pic](images/EigenVectors/twoD.1.jpg)"
   ]
  },
  {
   "cell_type": "markdown",
   "metadata": {},
   "source": [
    "Higher order eigen-vectors have larger eigen-values and corresponds to patterns that vary more rapidly across the graph.\n",
    "\n",
    "![pic](images/EigenVectors/twoD.2.jpg)"
   ]
  },
  {
   "cell_type": "markdown",
   "metadata": {},
   "source": [
    "### random walk\n",
    "The heat dispersion process is intimately related to another physical process: the random walk.\n",
    "\n",
    "The **Lazy random walk** process can be described as follows: A pebble is placed on one of the nodes of the graph, the the following process ensues. First, with probabities 1/2,1/2 a choice is made whether to *stay put* or to *move* to one of the neighboring nodes. If the choice is to move, the specific neighbor is chosen at random with equal probability for all of the neighbors.\n",
    "\n",
    "Now imagine that there is a huge number of pebbles and that they are all performing random walk at the same time. We can think about the fraction of pebbles on each node as a probability distribution and ask how this distribution evolved over time.\n",
    "\n",
    "Denote by $p_i^t$ the fraction of the pebbles that is on node $i$ at time $t$. Then the update rule for the probabilities is:\n",
    "$$\n",
    "p_i^{t+1} = \\frac{1}{2}\\left( p_i^t +  \\sum_{j \\in N(i)} \\frac{p_j^t}{d_j} \\right)\n",
    "$$\n",
    "\n",
    "We can re-write this in matrix form:\n",
    "$$\n",
    "p^{t+1} = \\frac{1}{2} \\left(I + A D^{-1} \\right) p^t\n",
    "$$"
   ]
  },
  {
   "cell_type": "code",
   "execution_count": 17,
   "metadata": {},
   "outputs": [],
   "source": [
    "filename='star'\n",
    "w,v,A,D,G=process_graph(filename)\n",
    "node_n = shape(A)[0]\n",
    "DI = matrix(np.zeros([node_n,node_n])) # Inverse of degree matrix \n",
    "for i in range(node_n):\n",
    "    DI[i,i]=1./D[i,i]\n",
    "W=0.5*(eye(node_n)+A*DI)"
   ]
  },
  {
   "cell_type": "code",
   "execution_count": 18,
   "metadata": {},
   "outputs": [
    {
     "name": "stdout",
     "output_type": "stream",
     "text": [
      "0 eigval: 1.00 eigvec:   0.9,   0.1,   0.1,   0.1,   0.1,   0.1,   0.1,   0.1\n",
      "1 eigval: 0.00 eigvec:   0.9,  -0.1,  -0.1,  -0.1,  -0.1,  -0.1,  -0.1,  -0.1\n",
      "2 eigval: 0.50 eigvec:   0.0,  -0.4,   0.9,  -0.1,  -0.1,  -0.1,  -0.1,  -0.1\n",
      "3 eigval: 0.50 eigvec:  -0.0,   0.5,   0.2,   0.5,  -0.3,  -0.3,  -0.3,  -0.3\n",
      "4 eigval: 0.50 eigvec:   0.0,  -0.7,  -0.2,   0.6,   0.1,   0.1,   0.1,   0.1\n",
      "5 eigval: 0.50 eigvec:   0.0,   0.0,  -0.0,  -0.0,  -0.5,   0.5,   0.5,  -0.5\n",
      "6 eigval: 0.50 eigvec:  -0.0,  -0.0,  -0.0,  -0.0,   0.5,   0.5,  -0.6,  -0.4\n",
      "7 eigval: 0.50 eigvec:   0.0,  -0.0,  -0.0,  -0.0,  -0.8,   0.6,  -0.1,   0.3\n"
     ]
    }
   ],
   "source": [
    "ww,vv=eig(W)\n",
    "print_eig(ww,vv)"
   ]
  },
  {
   "cell_type": "code",
   "execution_count": 19,
   "metadata": {},
   "outputs": [],
   "source": [
    "graph_eig(G,vv,filename+'.RW')\n",
    "fname=filename+'*.gif'\n",
    "!open $fname"
   ]
  },
  {
   "cell_type": "code",
   "execution_count": null,
   "metadata": {
    "collapsed": true
   },
   "outputs": [],
   "source": []
  }
 ],
 "metadata": {
  "anaconda-cloud": {},
  "hide_input": false,
  "kernelspec": {
   "display_name": "Python 3",
   "language": "python",
   "name": "python3"
  },
  "language_info": {
   "codemirror_mode": {
    "name": "ipython",
    "version": 3
   },
   "file_extension": ".py",
   "mimetype": "text/x-python",
   "name": "python",
   "nbconvert_exporter": "python",
   "pygments_lexer": "ipython3",
   "version": "3.7.0"
  },
  "toc": {
   "base_numbering": 1,
   "nav_menu": {
    "height": "48px",
    "width": "252px"
   },
   "number_sections": true,
   "sideBar": true,
   "skip_h1_title": false,
   "title_cell": "Table of Contents",
   "title_sidebar": "Contents",
   "toc_cell": false,
   "toc_position": {},
   "toc_section_display": "block",
   "toc_window_display": false
  }
 },
 "nbformat": 4,
 "nbformat_minor": 2
}
